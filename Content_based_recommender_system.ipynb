{
  "nbformat": 4,
  "nbformat_minor": 0,
  "metadata": {
    "colab": {
      "provenance": [],
      "gpuType": "T4",
      "authorship_tag": "ABX9TyMlJe0mvWzprZ00kIeZw8tf",
      "include_colab_link": true
    },
    "kernelspec": {
      "name": "python3",
      "display_name": "Python 3"
    },
    "language_info": {
      "name": "python"
    },
    "accelerator": "GPU"
  },
  "cells": [
    {
      "cell_type": "markdown",
      "metadata": {
        "id": "view-in-github",
        "colab_type": "text"
      },
      "source": [
        "<a href=\"https://colab.research.google.com/github/fatih260/ML-DL-Projects/blob/main/Content_based_recommender_system.ipynb\" target=\"_parent\"><img src=\"https://colab.research.google.com/assets/colab-badge.svg\" alt=\"Open In Colab\"/></a>"
      ]
    },
    {
      "cell_type": "code",
      "execution_count": null,
      "metadata": {
        "id": "KQpk1nrTF23w"
      },
      "outputs": [],
      "source": [
        "!pip install -q tensorflow-recommenders\n",
        "!pip install -q --upgrade tensorflow-datasets"
      ]
    },
    {
      "cell_type": "code",
      "source": [
        "import os\n",
        "import tempfile\n",
        "\n",
        "import numpy as np\n",
        "import pandas as pd\n",
        "import tensorflow as tf\n",
        "import tensorflow_datasets as tfds\n",
        "\n",
        "import tensorflow_recommenders as tfrs"
      ],
      "metadata": {
        "id": "ArFolEWkHa9Z"
      },
      "execution_count": null,
      "outputs": []
    },
    {
      "cell_type": "code",
      "source": [
        "ratings = tfds.load(\"movielens/100k-ratings\", split=\"train\")\n",
        "_movies = tfds.load(\"movielens/100k-movies\", split=\"train\")"
      ],
      "metadata": {
        "id": "cvvcSZyZHYlc"
      },
      "execution_count": null,
      "outputs": []
    },
    {
      "cell_type": "code",
      "source": [
        "for record in ratings.take(5):\n",
        "  print(record)\n"
      ],
      "metadata": {
        "colab": {
          "base_uri": "https://localhost:8080/"
        },
        "id": "8Bczm_uaIBdG",
        "outputId": "cd4a7abc-24b3-4331-dbe7-351155b7d462"
      },
      "execution_count": null,
      "outputs": [
        {
          "output_type": "stream",
          "name": "stdout",
          "text": [
            "{'bucketized_user_age': <tf.Tensor: shape=(), dtype=float32, numpy=45.0>, 'movie_genres': <tf.Tensor: shape=(1,), dtype=int64, numpy=array([7])>, 'movie_id': <tf.Tensor: shape=(), dtype=string, numpy=b'357'>, 'movie_title': <tf.Tensor: shape=(), dtype=string, numpy=b\"One Flew Over the Cuckoo's Nest (1975)\">, 'raw_user_age': <tf.Tensor: shape=(), dtype=float32, numpy=46.0>, 'timestamp': <tf.Tensor: shape=(), dtype=int64, numpy=879024327>, 'user_gender': <tf.Tensor: shape=(), dtype=bool, numpy=True>, 'user_id': <tf.Tensor: shape=(), dtype=string, numpy=b'138'>, 'user_occupation_label': <tf.Tensor: shape=(), dtype=int64, numpy=4>, 'user_occupation_text': <tf.Tensor: shape=(), dtype=string, numpy=b'doctor'>, 'user_rating': <tf.Tensor: shape=(), dtype=float32, numpy=4.0>, 'user_zip_code': <tf.Tensor: shape=(), dtype=string, numpy=b'53211'>}\n",
            "{'bucketized_user_age': <tf.Tensor: shape=(), dtype=float32, numpy=25.0>, 'movie_genres': <tf.Tensor: shape=(2,), dtype=int64, numpy=array([ 4, 14])>, 'movie_id': <tf.Tensor: shape=(), dtype=string, numpy=b'709'>, 'movie_title': <tf.Tensor: shape=(), dtype=string, numpy=b'Strictly Ballroom (1992)'>, 'raw_user_age': <tf.Tensor: shape=(), dtype=float32, numpy=32.0>, 'timestamp': <tf.Tensor: shape=(), dtype=int64, numpy=875654590>, 'user_gender': <tf.Tensor: shape=(), dtype=bool, numpy=True>, 'user_id': <tf.Tensor: shape=(), dtype=string, numpy=b'92'>, 'user_occupation_label': <tf.Tensor: shape=(), dtype=int64, numpy=5>, 'user_occupation_text': <tf.Tensor: shape=(), dtype=string, numpy=b'entertainment'>, 'user_rating': <tf.Tensor: shape=(), dtype=float32, numpy=2.0>, 'user_zip_code': <tf.Tensor: shape=(), dtype=string, numpy=b'80525'>}\n",
            "{'bucketized_user_age': <tf.Tensor: shape=(), dtype=float32, numpy=18.0>, 'movie_genres': <tf.Tensor: shape=(1,), dtype=int64, numpy=array([4])>, 'movie_id': <tf.Tensor: shape=(), dtype=string, numpy=b'412'>, 'movie_title': <tf.Tensor: shape=(), dtype=string, numpy=b'Very Brady Sequel, A (1996)'>, 'raw_user_age': <tf.Tensor: shape=(), dtype=float32, numpy=24.0>, 'timestamp': <tf.Tensor: shape=(), dtype=int64, numpy=882075110>, 'user_gender': <tf.Tensor: shape=(), dtype=bool, numpy=True>, 'user_id': <tf.Tensor: shape=(), dtype=string, numpy=b'301'>, 'user_occupation_label': <tf.Tensor: shape=(), dtype=int64, numpy=17>, 'user_occupation_text': <tf.Tensor: shape=(), dtype=string, numpy=b'student'>, 'user_rating': <tf.Tensor: shape=(), dtype=float32, numpy=4.0>, 'user_zip_code': <tf.Tensor: shape=(), dtype=string, numpy=b'55439'>}\n",
            "{'bucketized_user_age': <tf.Tensor: shape=(), dtype=float32, numpy=50.0>, 'movie_genres': <tf.Tensor: shape=(2,), dtype=int64, numpy=array([5, 7])>, 'movie_id': <tf.Tensor: shape=(), dtype=string, numpy=b'56'>, 'movie_title': <tf.Tensor: shape=(), dtype=string, numpy=b'Pulp Fiction (1994)'>, 'raw_user_age': <tf.Tensor: shape=(), dtype=float32, numpy=50.0>, 'timestamp': <tf.Tensor: shape=(), dtype=int64, numpy=883326919>, 'user_gender': <tf.Tensor: shape=(), dtype=bool, numpy=True>, 'user_id': <tf.Tensor: shape=(), dtype=string, numpy=b'60'>, 'user_occupation_label': <tf.Tensor: shape=(), dtype=int64, numpy=4>, 'user_occupation_text': <tf.Tensor: shape=(), dtype=string, numpy=b'healthcare'>, 'user_rating': <tf.Tensor: shape=(), dtype=float32, numpy=4.0>, 'user_zip_code': <tf.Tensor: shape=(), dtype=string, numpy=b'06472'>}\n",
            "{'bucketized_user_age': <tf.Tensor: shape=(), dtype=float32, numpy=50.0>, 'movie_genres': <tf.Tensor: shape=(2,), dtype=int64, numpy=array([10, 16])>, 'movie_id': <tf.Tensor: shape=(), dtype=string, numpy=b'895'>, 'movie_title': <tf.Tensor: shape=(), dtype=string, numpy=b'Scream 2 (1997)'>, 'raw_user_age': <tf.Tensor: shape=(), dtype=float32, numpy=55.0>, 'timestamp': <tf.Tensor: shape=(), dtype=int64, numpy=891409199>, 'user_gender': <tf.Tensor: shape=(), dtype=bool, numpy=True>, 'user_id': <tf.Tensor: shape=(), dtype=string, numpy=b'197'>, 'user_occupation_label': <tf.Tensor: shape=(), dtype=int64, numpy=18>, 'user_occupation_text': <tf.Tensor: shape=(), dtype=string, numpy=b'technician'>, 'user_rating': <tf.Tensor: shape=(), dtype=float32, numpy=3.0>, 'user_zip_code': <tf.Tensor: shape=(), dtype=string, numpy=b'75094'>}\n"
          ]
        }
      ]
    },
    {
      "cell_type": "code",
      "source": [
        "#ratings_df = tfds.as_dataframe(ratings)\n",
        "#ratings_df.head()"
      ],
      "metadata": {
        "id": "WXUV8icXIRCG"
      },
      "execution_count": null,
      "outputs": []
    },
    {
      "cell_type": "code",
      "source": [
        "ratings = ratings.map(lambda x: {\n",
        "    \"movie_genres\": x[\"movie_genres\"],\n",
        "    \"movie_title\": x[\"movie_title\"],\n",
        "    \"user_gender\": x[\"user_gender\"],\n",
        "    \"bucketized_user_age\": x[\"bucketized_user_age\"],\n",
        "    \"user_occupation_label\": x[\"user_occupation_label\"],\n",
        "    \"timestamp\": x[\"timestamp\"]\n",
        "})\n",
        "\n",
        "for record in ratings.take(5):\n",
        "  print(record)\n",
        "#movies = movies.map(lambda x: {\n",
        "#    \"movie_title\": x[\"movie_title\"],\n",
        "#    \"movie_genres\": x[\"movie_genres\"]\n",
        "#})\n",
        "movies = _movies.map(lambda x: x[\"movie_title\"])\n",
        "genres = _movies.map(lambda x: x[\"movie_genres\"])\n",
        "\n",
        "for movie in movies.take(5):\n",
        "  print(movie)"
      ],
      "metadata": {
        "colab": {
          "base_uri": "https://localhost:8080/"
        },
        "id": "1UuMZeesJpGp",
        "outputId": "7144b954-3def-4eb6-ad45-0fc6bbeaf710"
      },
      "execution_count": null,
      "outputs": [
        {
          "output_type": "stream",
          "name": "stdout",
          "text": [
            "{'movie_genres': <tf.Tensor: shape=(1,), dtype=int64, numpy=array([7])>, 'movie_title': <tf.Tensor: shape=(), dtype=string, numpy=b\"One Flew Over the Cuckoo's Nest (1975)\">, 'user_gender': <tf.Tensor: shape=(), dtype=bool, numpy=True>, 'bucketized_user_age': <tf.Tensor: shape=(), dtype=float32, numpy=45.0>, 'user_occupation_label': <tf.Tensor: shape=(), dtype=int64, numpy=4>, 'timestamp': <tf.Tensor: shape=(), dtype=int64, numpy=879024327>}\n",
            "{'movie_genres': <tf.Tensor: shape=(2,), dtype=int64, numpy=array([ 4, 14])>, 'movie_title': <tf.Tensor: shape=(), dtype=string, numpy=b'Strictly Ballroom (1992)'>, 'user_gender': <tf.Tensor: shape=(), dtype=bool, numpy=True>, 'bucketized_user_age': <tf.Tensor: shape=(), dtype=float32, numpy=25.0>, 'user_occupation_label': <tf.Tensor: shape=(), dtype=int64, numpy=5>, 'timestamp': <tf.Tensor: shape=(), dtype=int64, numpy=875654590>}\n",
            "{'movie_genres': <tf.Tensor: shape=(1,), dtype=int64, numpy=array([4])>, 'movie_title': <tf.Tensor: shape=(), dtype=string, numpy=b'Very Brady Sequel, A (1996)'>, 'user_gender': <tf.Tensor: shape=(), dtype=bool, numpy=True>, 'bucketized_user_age': <tf.Tensor: shape=(), dtype=float32, numpy=18.0>, 'user_occupation_label': <tf.Tensor: shape=(), dtype=int64, numpy=17>, 'timestamp': <tf.Tensor: shape=(), dtype=int64, numpy=882075110>}\n",
            "{'movie_genres': <tf.Tensor: shape=(2,), dtype=int64, numpy=array([5, 7])>, 'movie_title': <tf.Tensor: shape=(), dtype=string, numpy=b'Pulp Fiction (1994)'>, 'user_gender': <tf.Tensor: shape=(), dtype=bool, numpy=True>, 'bucketized_user_age': <tf.Tensor: shape=(), dtype=float32, numpy=50.0>, 'user_occupation_label': <tf.Tensor: shape=(), dtype=int64, numpy=4>, 'timestamp': <tf.Tensor: shape=(), dtype=int64, numpy=883326919>}\n",
            "{'movie_genres': <tf.Tensor: shape=(2,), dtype=int64, numpy=array([10, 16])>, 'movie_title': <tf.Tensor: shape=(), dtype=string, numpy=b'Scream 2 (1997)'>, 'user_gender': <tf.Tensor: shape=(), dtype=bool, numpy=True>, 'bucketized_user_age': <tf.Tensor: shape=(), dtype=float32, numpy=50.0>, 'user_occupation_label': <tf.Tensor: shape=(), dtype=int64, numpy=18>, 'timestamp': <tf.Tensor: shape=(), dtype=int64, numpy=891409199>}\n",
            "tf.Tensor(b'You So Crazy (1994)', shape=(), dtype=string)\n",
            "tf.Tensor(b'Love Is All There Is (1996)', shape=(), dtype=string)\n",
            "tf.Tensor(b'Fly Away Home (1996)', shape=(), dtype=string)\n",
            "tf.Tensor(b'In the Line of Duty 2 (1987)', shape=(), dtype=string)\n",
            "tf.Tensor(b'Niagara, Niagara (1997)', shape=(), dtype=string)\n"
          ]
        }
      ]
    },
    {
      "cell_type": "code",
      "source": [
        "timestamps = np.concatenate(list(ratings.map(lambda x: x[\"timestamp\"]).batch(100)))\n",
        "\n",
        "max_timestamp = timestamps.max()\n",
        "min_timestamp = timestamps.min()\n",
        "\n",
        "timestamp_buckets = np.linspace(\n",
        "    min_timestamp, max_timestamp, num=1000,\n",
        ")\n",
        "len(timestamp_buckets)"
      ],
      "metadata": {
        "colab": {
          "base_uri": "https://localhost:8080/"
        },
        "id": "GUmy287bQXuf",
        "outputId": "763321ea-9cea-402b-9e00-cfb61ccf755f"
      },
      "execution_count": null,
      "outputs": [
        {
          "output_type": "execute_result",
          "data": {
            "text/plain": [
              "1000"
            ]
          },
          "metadata": {},
          "execution_count": 5
        }
      ]
    },
    {
      "cell_type": "code",
      "source": [
        "try:\n",
        "    unique_movie_genres = np.unique(np.concatenate(list(genres.batch(1000))))\n",
        "    unique_movie_titles = np.unique(np.concatenate(list(movies.batch(1000))))\n",
        "    unique_user_gender = np.unique(np.concatenate(list(ratings.batch(1000).map(\n",
        "        lambda x: x[\"user_gender\"]))))\n",
        "    unique_bucketized_user_age = np.unique(np.concatenate(list(ratings.batch(1000).map(\n",
        "        lambda x: x[\"bucketized_user_age\"]))))\n",
        "    unique_user_occupation_label = np.unique(np.concatenate(list(ratings.batch(1000).map(\n",
        "        lambda x: x[\"user_occupation_label\"]))))\n",
        "except Exception as e:\n",
        "    print(\"Error:\", e)"
      ],
      "metadata": {
        "colab": {
          "base_uri": "https://localhost:8080/"
        },
        "id": "QBx17vRoNAEd",
        "outputId": "aae94c90-3ba8-4259-dda2-e1d4528c54cc"
      },
      "execution_count": null,
      "outputs": [
        {
          "output_type": "stream",
          "name": "stdout",
          "text": [
            "Error: {{function_node __wrapped__IteratorGetNext_output_types_1_device_/job:localhost/replica:0/task:0/device:CPU:0}} Cannot add tensor to the batch: number of elements does not match. Shapes are: [tensor]: [2], [batch]: [1] [Op:IteratorGetNext]\n"
          ]
        }
      ]
    },
    {
      "cell_type": "code",
      "source": [
        "class UserModel(tf.keras.Model):\n",
        "\n",
        "  def __init__(self):\n",
        "    super().__init__()\n",
        "\n",
        "    self.age_embedding = tf.keras.Sequential([\n",
        "        tf.keras.layers.IntegerLookup(\n",
        "            vocabulary=unique_bucketized_user_age, mask_token=None),\n",
        "        tf.keras.layers.Embedding(len(unique_bucketized_user_age) + 1, 32),\n",
        "    ])\n",
        "\n",
        "    self.occupation_embedding = tf.keras.Sequential([\n",
        "        tf.keras.layers.IntegerLookup(\n",
        "            vocabulary=unique_user_occupation_label, mask_token=None),\n",
        "        tf.keras.layers.Embedding(len(unique_user_occupation_label) + 1, 32),\n",
        "    ])\n",
        "\n",
        "    self.gender_embedding = tf.keras.Sequential([\n",
        "        tf.keras.layers.IntegerLookup(\n",
        "            vocabulary=unique_user_gender, mask_token=None),\n",
        "        tf.keras.layers.Embedding(len(unique_user_gender) + 1, 32),\n",
        "    ])\n",
        "\n",
        "    self.timestamp_embedding = tf.keras.Sequential([\n",
        "        tf.keras.layers.Discretization(timestamp_buckets.tolist()),\n",
        "        tf.keras.layers.Embedding(len(timestamp_buckets) + 1, 32),\n",
        "    ])\n",
        "    self.normalized_timestamp = tf.keras.layers.Normalization(\n",
        "        axis=None\n",
        "    )\n",
        "\n",
        "    self.normalized_timestamp.adapt(timestamps)\n",
        "\n",
        "  def call(self, inputs):\n",
        "    # Take the input dictionary, pass it through each input layer,\n",
        "    # and concatenate the result.\n",
        "    return tf.concat([\n",
        "        self.age_embedding(inputs[\"bucketized_user_age\"]),\n",
        "        self.occupation_embedding(inputs[\"user_occupation_label\"]),\n",
        "        self.gender_embedding(inputs[\"user_gender\"]),\n",
        "        self.timestamp_embedding(inputs[\"timestamp\"]),\n",
        "        tf.reshape(self.normalized_timestamp(inputs[\"timestamp\"]), (-1, 1)),\n",
        "    ], axis=1)\n"
      ],
      "metadata": {
        "id": "to6oPrhaUgUj"
      },
      "execution_count": null,
      "outputs": []
    },
    {
      "cell_type": "code",
      "source": [
        "class QueryModel(tf.keras.Model):\n",
        "  \"\"\"Model for encoding user queries.\"\"\"\n",
        "\n",
        "  def __init__(self, layer_sizes):\n",
        "    \"\"\"Model for encoding user queries.\n",
        "\n",
        "    Args:\n",
        "      layer_sizes:\n",
        "        A list of integers where the i-th entry represents the number of units\n",
        "        the i-th layer contains.\n",
        "    \"\"\"\n",
        "    super().__init__()\n",
        "\n",
        "    # We first use the user model for generating embeddings.\n",
        "    self.embedding_model = UserModel()\n",
        "\n",
        "    # Then construct the layers.\n",
        "    self.dense_layers = tf.keras.Sequential()\n",
        "\n",
        "    # Use the ReLU activation for all but the last layer.\n",
        "    for layer_size in layer_sizes[:-1]:\n",
        "      self.dense_layers.add(tf.keras.layers.Dense(layer_size, activation=\"relu\"))\n",
        "\n",
        "    # No activation for the last layer.\n",
        "    for layer_size in layer_sizes[-1:]:\n",
        "      self.dense_layers.add(tf.keras.layers.Dense(layer_size))\n",
        "\n",
        "  def call(self, inputs):\n",
        "    feature_embedding = self.embedding_model(inputs)\n",
        "    return self.dense_layers(feature_embedding)"
      ],
      "metadata": {
        "id": "NYDT23WzVB9b"
      },
      "execution_count": null,
      "outputs": []
    },
    {
      "cell_type": "code",
      "source": [
        "class MovieModel(tf.keras.Model):\n",
        "\n",
        "  def __init__(self):\n",
        "    super().__init__()\n",
        "\n",
        "    max_tokens = 10_000\n",
        "\n",
        "    self.title_embedding = tf.keras.Sequential([\n",
        "      tf.keras.layers.StringLookup(\n",
        "          vocabulary=unique_movie_titles,mask_token=None),\n",
        "      tf.keras.layers.Embedding(len(unique_movie_titles) + 1, 32)\n",
        "    ])\n",
        "\n",
        "    self.title_vectorizer = tf.keras.layers.TextVectorization(\n",
        "        max_tokens=max_tokens)\n",
        "\n",
        "    self.title_text_embedding = tf.keras.Sequential([\n",
        "      self.title_vectorizer,\n",
        "      tf.keras.layers.Embedding(max_tokens, 32, mask_zero=True),\n",
        "      tf.keras.layers.GlobalAveragePooling1D(),\n",
        "    ])\n",
        "\n",
        "    self.genre_embedding = tf.keras.Sequential([\n",
        "        tf.keras.layers.IntegerLookup(\n",
        "            vocabulary=unique_movie_genres, mask_token=None),\n",
        "        tf.keras.layers.Embedding(len(unique_movie_genres) + 1, 32),\n",
        "    ])\n",
        "\n",
        "    self.title_vectorizer.adapt(movies)\n",
        "\n",
        "  def call(self, titles):\n",
        "    return tf.concat([\n",
        "        self.title_embedding(titles),\n",
        "        self.title_text_embedding(titles),\n",
        "        self.genre_embedding(genres),\n",
        "    ], axis=1)"
      ],
      "metadata": {
        "id": "e0o4GrOVfwm_"
      },
      "execution_count": null,
      "outputs": []
    },
    {
      "cell_type": "code",
      "source": [
        "class CandidateModel(tf.keras.Model):\n",
        "  \"\"\"Model for encoding movies.\"\"\"\n",
        "\n",
        "  def __init__(self, layer_sizes):\n",
        "    \"\"\"Model for encoding movies.\n",
        "\n",
        "    Args:\n",
        "      layer_sizes:\n",
        "        A list of integers where the i-th entry represents the number of units\n",
        "        the i-th layer contains.\n",
        "    \"\"\"\n",
        "    super().__init__()\n",
        "\n",
        "    self.embedding_model = MovieModel()\n",
        "\n",
        "    # Then construct the layers.\n",
        "    self.dense_layers = tf.keras.Sequential()\n",
        "\n",
        "    # Use the ReLU activation for all but the last layer.\n",
        "    for layer_size in layer_sizes[:-1]:\n",
        "      self.dense_layers.add(tf.keras.layers.Dense(layer_size, activation=\"relu\"))\n",
        "\n",
        "    # No activation for the last layer.\n",
        "    for layer_size in layer_sizes[-1:]:\n",
        "      self.dense_layers.add(tf.keras.layers.Dense(layer_size))\n",
        "\n",
        "  def call(self, inputs):\n",
        "    feature_embedding = self.embedding_model(inputs)\n",
        "    return self.dense_layers(feature_embedding)"
      ],
      "metadata": {
        "id": "XL830C1Ga37T"
      },
      "execution_count": null,
      "outputs": []
    },
    {
      "cell_type": "code",
      "source": [
        "class MovielensModel(tfrs.models.Model):\n",
        "\n",
        "  def __init__(self, layer_sizes):\n",
        "    super().__init__()\n",
        "    self.query_model = QueryModel(layer_sizes)\n",
        "    self.candidate_model = CandidateModel(layer_sizes)\n",
        "    self.task = tfrs.tasks.Retrieval(\n",
        "        metrics=tfrs.metrics.FactorizedTopK(\n",
        "            candidates=movies.batch(128).map(self.candidate_model),\n",
        "        ),\n",
        "    )\n",
        "\n",
        "  def compute_loss(self, features, training=False):\n",
        "\n",
        "    query_embeddings = self.query_model({\n",
        "        \"bucketized_user_age\": features[\"bucketized_user_age\"],\n",
        "        \"user_occupation_label\": features[\"user_occupation_label\"],\n",
        "        \"user_gender\": features[\"user_gender\"],\n",
        "        \"timestamp\": features[\"timestamp\"],\n",
        "    })\n",
        "    movie_embeddings = self.candidate_model(features[\"movie_title\"])\n",
        "\n",
        "    return self.task(\n",
        "        query_embeddings, movie_embeddings, compute_metrics=not training)"
      ],
      "metadata": {
        "id": "LKaG5750crjC"
      },
      "execution_count": null,
      "outputs": []
    },
    {
      "cell_type": "code",
      "source": [
        "tf.random.set_seed(42)\n",
        "shuffled = ratings.shuffle(100_000, seed=42, reshuffle_each_iteration=False)\n",
        "\n",
        "train = shuffled.take(80_000)\n",
        "test = shuffled.skip(80_000).take(20_000)\n",
        "\n",
        "cached_train = train.shuffle(100_000).batch(2048)\n",
        "cached_test = test.batch(4096).cache()"
      ],
      "metadata": {
        "id": "vUshPqEydlEW"
      },
      "execution_count": null,
      "outputs": []
    },
    {
      "cell_type": "code",
      "source": [
        "num_epochs = 50\n",
        "model = MovielensModel([64, 32])\n",
        "#model = MovielensModel([32])\n",
        "model.compile(optimizer=tf.keras.optimizers.Adagrad(0.1))\n",
        "\n",
        "one_layer_history = model.fit(\n",
        "    cached_train,\n",
        "    validation_data=cached_test,\n",
        "    validation_freq=5,\n",
        "    epochs=num_epochs,\n",
        "    verbose=0)\n",
        "\n",
        "accuracy = one_layer_history.history[\"val_factorized_top_k/top_100_categorical_accuracy\"][-1]\n",
        "print(f\"Top-100 accuracy: {accuracy:.2f}.\")"
      ],
      "metadata": {
        "colab": {
          "base_uri": "https://localhost:8080/"
        },
        "id": "dR3ZDTJ3eZwk",
        "outputId": "2aa282a4-d03e-492d-d207-c58296e1f029"
      },
      "execution_count": null,
      "outputs": [
        {
          "output_type": "stream",
          "name": "stdout",
          "text": [
            "Top-100 accuracy: 0.16.\n"
          ]
        }
      ]
    },
    {
      "cell_type": "code",
      "source": [
        "index = tfrs.layers.factorized_top_k.BruteForce(model.query_model)\n",
        "index.index_from_dataset(\n",
        "  tf.data.Dataset.zip((movies.batch(100), movies.batch(100).map(model.candidate_model)))\n",
        ")\n",
        "\n",
        "\n",
        "_, titles = index({\n",
        "    \"bucketized_user_age\": np.array([50]),\n",
        "    \"user_occupation_label\": np.array([4]),\n",
        "    \"user_gender\": np.array([False]),\n",
        "    \"timestamp\": np.array([879024327])},\n",
        "    k=50\n",
        ")"
      ],
      "metadata": {
        "id": "nU7wLpHPj-LL"
      },
      "execution_count": null,
      "outputs": []
    },
    {
      "cell_type": "code",
      "source": [
        "titles[0].numpy()"
      ],
      "metadata": {
        "colab": {
          "base_uri": "https://localhost:8080/"
        },
        "id": "V2UO_O-5k6nB",
        "outputId": "9fcba902-c3bb-4fcb-b550-29b973808e15"
      },
      "execution_count": null,
      "outputs": [
        {
          "output_type": "execute_result",
          "data": {
            "text/plain": [
              "array([b'Secrets & Lies (1996)', b'Roman Holiday (1953)',\n",
              "       b'Sum of Us, The (1994)', b'Cold Comfort Farm (1995)',\n",
              "       b'Love in the Afternoon (1957)', b'Postino, Il (1994)',\n",
              "       b\"Star Maker, The (Uomo delle stelle, L') (1995)\", b'Emma (1996)',\n",
              "       b\"Antonia's Line (1995)\", b'Spitfire Grill, The (1996)',\n",
              "       b'Big Night (1996)', b'Jane Eyre (1996)', b'Citizen Ruth (1996)',\n",
              "       b'Lone Star (1996)', b'A Chef in Love (1996)',\n",
              "       b'Cat on a Hot Tin Roof (1958)', b'Sense and Sensibility (1995)',\n",
              "       b'Love & Human Remains (1993)', b'To Catch a Thief (1955)',\n",
              "       b'Murder in the First (1995)', b'Little Women (1994)',\n",
              "       b'Eat Drink Man Woman (1994)', b'Fargo (1996)',\n",
              "       b'Godfather, The (1972)', b'Crucible, The (1996)',\n",
              "       b'Leaving Las Vegas (1995)', b'Mighty Aphrodite (1995)',\n",
              "       b'Band Wagon, The (1953)',\n",
              "       b'Treasure of the Sierra Madre, The (1948)',\n",
              "       b'Unhook the Stars (1996)', b'Laura (1944)',\n",
              "       b'Ruling Class, The (1972)', b'Bound (1996)', b'Mad Love (1995)',\n",
              "       b\"Smilla's Sense of Snow (1997)\", b'Donnie Brasco (1997)',\n",
              "       b'Moll Flanders (1996)', b'Charade (1963)', b'Two Bits (1995)',\n",
              "       b'Jerry Maguire (1996)', b\"Mr. Holland's Opus (1995)\",\n",
              "       b'Enchanted April (1991)', b'Wild America (1997)',\n",
              "       b'Out to Sea (1997)', b'Breaking the Waves (1996)',\n",
              "       b'Somewhere in Time (1980)', b'Celluloid Closet, The (1995)',\n",
              "       b'Primal Fear (1996)', b'English Patient, The (1996)',\n",
              "       b'American in Paris, An (1951)'], dtype=object)"
            ]
          },
          "metadata": {},
          "execution_count": 24
        }
      ]
    }
  ]
}